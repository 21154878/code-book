{
 "cells": [
  {
   "cell_type": "code",
   "execution_count": 17,
   "metadata": {},
   "outputs": [],
   "source": [
    "import networkx as nx\n",
    "from networkx import clustering as cl\n",
    "import csv\n",
    "import matplotlib.pyplot as plt\n",
    "from pyvis.network import Network"
   ]
  },
  {
   "cell_type": "code",
   "execution_count": 18,
   "metadata": {},
   "outputs": [],
   "source": [
    "class Station:\n",
    "    def __init__(self, name, type, district, city, line,traffic,nametraffic):\n",
    "        self.name=name\n",
    "        self.type=type\n",
    "        self.district=district\n",
    "        self.city=city\n",
    "        self.line=line\n",
    "        self.traffic=traffic\n",
    "        self.nametraffic=nametraffic"
   ]
  },
  {
   "cell_type": "code",
   "execution_count": 19,
   "metadata": {},
   "outputs": [],
   "source": [
    "Stations = []\n",
    "with open(\"Traffic in LaDefense.csv\") as csvfile:\n",
    "    reader = csv.DictReader(csvfile)\n",
    "    for row in reader:\n",
    "        name = row['Name']\n",
    "        type=row['Type']\n",
    "        traffic=row['Traffic']\n",
    "        district = row['District']\n",
    "        city=row['City']\n",
    "        line=row['Line'].split(', ')\n",
    "        nametraffic=name+\"\\r\\n\"+\"volume=\"+traffic\n",
    "        Stations.append(Station(name, type, district, city, line, traffic,nametraffic))"
   ]
  },
  {
   "cell_type": "code",
   "execution_count": 20,
   "metadata": {},
   "outputs": [],
   "source": [
    "StationMap = Network ('1000px', '1000px')"
   ]
  },
  {
   "cell_type": "code",
   "execution_count": 21,
   "metadata": {},
   "outputs": [],
   "source": [
    "StationSubset = Stations[0:100]"
   ]
  },
  {
   "cell_type": "code",
   "execution_count": 22,
   "metadata": {},
   "outputs": [],
   "source": [
    "for s in StationSubset:\n",
    "    StationMap.add_node(s.name,size=1,color='red')\n",
    "for s1 in StationSubset:\n",
    "    for s2 in StationSubset:\n",
    "        if not s1 == s2:\n",
    "            for l in s1.line:\n",
    "                if l in s2.line:\n",
    "                    StationMap.add_edge(s1.name,s2.name,color='orange')\n",
    "            if s1.district==s2.district:\n",
    "                StationMap.add_edge(s1.name,s2.name,color='grey')"
   ]
  },
  {
   "cell_type": "code",
   "execution_count": 23,
   "metadata": {},
   "outputs": [],
   "source": [
    "StationMap.show_buttons(filter_=['physics'])\n",
    "StationMap.show('traffic in Paris.html')"
   ]
  },
  {
   "cell_type": "markdown",
   "metadata": {},
   "source": [
    "The graph shows the accessibility of the stations in Grand Paris. The more lines passing through the station, the higher accessibility it has. The station with more traffic flow will be connected with thicker edges. Stations in the same city are in the same cluster connected by grey lines. In the chosen 25 stations, we can see that SAINT-LAZARE is the most accessible station because of its hugh traffic amount and its connection with 3 cities."
   ]
  }
 ],
 "metadata": {
  "kernelspec": {
   "display_name": "Python 3",
   "language": "python",
   "name": "python3"
  },
  "language_info": {
   "codemirror_mode": {
    "name": "ipython",
    "version": 3
   },
   "file_extension": ".py",
   "mimetype": "text/x-python",
   "name": "python",
   "nbconvert_exporter": "python",
   "pygments_lexer": "ipython3",
   "version": "3.9.5"
  }
 },
 "nbformat": 4,
 "nbformat_minor": 4
}
