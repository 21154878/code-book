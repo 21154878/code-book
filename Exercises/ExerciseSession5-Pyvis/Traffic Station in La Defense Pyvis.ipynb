{
 "cells": [
  {
   "cell_type": "code",
   "execution_count": 233,
   "metadata": {},
   "outputs": [],
   "source": [
    "import networkx as nx\n",
    "from networkx import clustering as cl\n",
    "import csv\n",
    "import matplotlib.pyplot as plt\n",
    "from pyvis.network import Network"
   ]
  },
  {
   "cell_type": "code",
   "execution_count": 234,
   "metadata": {},
   "outputs": [],
   "source": [
    "class Station:\n",
    "    def __init__(self, name, type, district, city, line,traffic,nametraffic):\n",
    "        self.name=name\n",
    "        self.type=type\n",
    "        self.district=district\n",
    "        self.city=city\n",
    "        self.line=line\n",
    "        self.traffic=traffic\n",
    "        self.nametraffic=nametraffic"
   ]
  },
  {
   "cell_type": "code",
   "execution_count": 235,
   "metadata": {},
   "outputs": [],
   "source": [
    "Stations = []\n",
    "with open(\"Traffic in LaDefense.csv\") as csvfile:\n",
    "    reader = csv.DictReader(csvfile)\n",
    "    for row in reader:\n",
    "        name = row['Name']\n",
    "        type=row['Type']\n",
    "        traffic=row['Traffic']\n",
    "        district = row['District']\n",
    "        city=row['City']\n",
    "        line=row['Line'].split(', ')\n",
    "        nametraffic=name+\"\\r\\n\"+\"volume=\"+traffic\n",
    "        Stations.append(Station(name, type, district, city, line, traffic,nametraffic))"
   ]
  },
  {
   "cell_type": "code",
   "execution_count": 236,
   "metadata": {},
   "outputs": [],
   "source": [
    "StationMap = Network ('1000px', '1000px')"
   ]
  },
  {
   "cell_type": "code",
   "execution_count": 237,
   "metadata": {},
   "outputs": [],
   "source": [
    "StationSubset = Stations[0:25]"
   ]
  },
  {
   "cell_type": "code",
   "execution_count": 238,
   "metadata": {},
   "outputs": [],
   "source": [
    "for s in StationSubset:\n",
    "    if int(s.traffic)<2000000:\n",
    "        StationMap.add_node(s.nametraffic, nametraffic = s.nametraffic,size=1,color='purple')\n",
    "    elif int(s.traffic)>=2000000 and int(s.traffic)<3000000:\n",
    "        StationMap.add_node(s.nametraffic, nametraffic = s.nametraffic,size=3,color='blue')\n",
    "    elif int(s.traffic)>=3000000 and int(s.traffic)<4500000:\n",
    "        StationMap.add_node(s.nametraffic, nametraffic = s.nametraffic,size=5,color='green')\n",
    "    elif int(s.traffic)>=4500000 and int(s.traffic)<6000000:\n",
    "        StationMap.add_node(s.nametraffic, nametraffic = s.nametraffic,size=7,color='yellow')\n",
    "    else:\n",
    "        StationMap.add_node(s.nametraffic, nametraffic = s.nametraffic,size=9,color='red')"
   ]
  },
  {
   "cell_type": "code",
   "execution_count": 239,
   "metadata": {},
   "outputs": [],
   "source": [
    "for s1 in StationSubset:\n",
    "    for s2 in StationSubset:\n",
    "        if not s1 == s2:\n",
    "            for l in s1.line:\n",
    "                if l in s2.line:\n",
    "                    if int(s1.traffic)>int(s2.traffic):\n",
    "                        StationMap.add_edge(s1.nametraffic,s2.nametraffic,value=int(s1.traffic),color='orange')\n",
    "                    else:\n",
    "                        StationMap.add_edge(s1.nametraffic,s2.nametraffic,value=int(s2.traffic),color='orange')\n",
    "            if s1.city==s2.city:\n",
    "                StationMap.add_edge(s1.nametraffic,s2.nametraffic,value=4000000,color='grey')"
   ]
  },
  {
   "cell_type": "code",
   "execution_count": 240,
   "metadata": {},
   "outputs": [],
   "source": [
    "StationMap.show_buttons(filter_=['physics'])\n",
    "StationMap.show('traffic in Paris.html')"
   ]
  },
  {
   "cell_type": "markdown",
   "metadata": {},
   "source": [
    "The graph shows the accessibility of the stations in Grand Paris. The more lines passing through the station, the higher accessibility it has. The station with more traffic flow will be connected with thicker edges. Stations in the same city are in the same cluster connected by grey lines. In the chosen 25 stations, we can see that SAINT-LAZARE is the most accessible station because of its hugh traffic amount and its connection with 3 cities."
   ]
  }
 ],
 "metadata": {
  "kernelspec": {
   "display_name": "Python 3",
   "language": "python",
   "name": "python3"
  },
  "language_info": {
   "codemirror_mode": {
    "name": "ipython",
    "version": 3
   },
   "file_extension": ".py",
   "mimetype": "text/x-python",
   "name": "python",
   "nbconvert_exporter": "python",
   "pygments_lexer": "ipython3",
   "version": "3.9.5"
  }
 },
 "nbformat": 4,
 "nbformat_minor": 4
}
