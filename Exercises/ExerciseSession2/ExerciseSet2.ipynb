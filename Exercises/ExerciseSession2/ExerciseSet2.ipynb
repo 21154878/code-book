{
 "cells": [
  {
   "cell_type": "markdown",
   "metadata": {},
   "source": [
    "# Exercises 2\n",
    "\n",
    "__Python basics__"
   ]
  },
  {
   "cell_type": "markdown",
   "metadata": {},
   "source": [
    "### Exercise 1 - Padovan sequence\n",
    "write a function that prints the n first numbers of the padovan sequence."
   ]
  },
  {
   "cell_type": "code",
   "execution_count": 5,
   "metadata": {},
   "outputs": [
    {
     "name": "stdout",
     "output_type": "stream",
     "text": [
      "Enter the length of the padovan sequence: 17\n",
      "1\n",
      "1\n",
      "1\n",
      "2\n",
      "2\n",
      "3\n",
      "4\n",
      "5\n",
      "7\n",
      "9\n",
      "12\n",
      "16\n",
      "21\n",
      "28\n",
      "37\n",
      "49\n",
      "65\n"
     ]
    }
   ],
   "source": [
    "a=0\n",
    "b=1\n",
    "c=0\n",
    "n=int(input(\"Enter the length of the padovan sequence: \"))\n",
    "for i in range(n):\n",
    "    d=a\n",
    "    a=b\n",
    "    b=c\n",
    "    c=d+a\n",
    "    print (c)"
   ]
  },
  {
   "cell_type": "markdown",
   "metadata": {},
   "source": [
    "-------"
   ]
  },
  {
   "cell_type": "code",
   "execution_count": 46,
   "metadata": {},
   "outputs": [],
   "source": [
    "asciiArt = \"                   \\  |  /         ___________                       ____________  \\ \\_# /         |  ___      |       _________     |            |  \\  #/          | |   |     |      | = = = = |    | |   |   |  |   \\\\#           | |`v'|     |      |         |    |            |    \\#  //       |  --- ___  |      | |  || | |    | |   |   |  |     #_//        |     |   | |      |         |    |            |  \\\\ #_/_______  |     |   | |      | |  || | |    | |   |   |  |   \\\\# /_____/ \\ |      ---  |      |         |    |            |    \\# |+ ++|  | |  |^^^^^^| |      | |  || | |    |            |    \\# |+ ++|  | |  |^^^^^^| |      | |  || | | ^^^|    (^^^^^) |^^^^^#^| H  |_ |^|  | |||| | |^^^^^^|         |    |    ( ||| ) |     # ^^^^^^    |  | |||| | |      | ||||||| |    ^^^^^^^^^^^^^________/  /_____ |  | |||| | |      | ||||||| |         `v'-                      ^^^^^^^^^^^^^      | ||||||| |          || |`.      (__)    (__)                          ( )                        (oo)    (oo)                       /---V                  /-------\\/      \\/ --------\\             * |  |                 / |     ||        ||_______| \\                                  *  ||W---||        ||      ||  *                                    ^^    ^^        ^^      ^^                        \""
   ]
  },
  {
   "cell_type": "markdown",
   "metadata": {},
   "source": [
    "### Exercise 2 - ASCII Art\n",
    "There's a very long string variable named ```asciiArt```, defined above (don't edit this cell, but do run it first).\n",
    "\n",
    "If you print it on seperate lines, at a certain line length an ascii art scene will appear.\n",
    "\n",
    "hint: answer of exercise 1, n = 17"
   ]
  },
  {
   "cell_type": "code",
   "execution_count": 47,
   "metadata": {},
   "outputs": [
    {
     "name": "stdout",
     "output_type": "stream",
     "text": [
      " \n",
      "                  \\  |  /         ___________                    \n",
      "   ____________  \\ \\_# /         |  ___      |       _________   \n",
      "  |            |  \\  #/          | |   |     |      | = = = = |  \n",
      "  | |   |   |  |   \\#           | |`v'|     |      |         |   \n",
      " |            |    \\#  //       |  --- ___  |      | |  || | |   \n",
      " | |   |   |  |     #_//        |     |   | |      |         |   \n",
      " |            |  \\ #_/_______  |     |   | |      | |  || | |    \n",
      "| |   |   |  |   \\# /_____/ \\ |      ---  |      |         |    |\n",
      "            |    \\# |+ ++|  | |  |^^^^^^| |      | |  || | |    |\n",
      "            |    \\# |+ ++|  | |  |^^^^^^| |      | |  || | | ^^^|\n",
      "    (^^^^^) |^^^^^#^| H  |_ |^|  | |||| | |^^^^^^|         |    |\n",
      "    ( ||| ) |     # ^^^^^^    |  | |||| | |      | ||||||| |    ^\n",
      "^^^^^^^^^^^^________/  /_____ |  | |||| | |      | ||||||| |     \n",
      "    `v'-                      ^^^^^^^^^^^^^      | ||||||| |     \n",
      "     || |`.      (__)    (__)                          ( )       \n",
      "                 (oo)    (oo)                       /---V        \n",
      "          /-------\\/      \\/ --------\\             * |  |        \n",
      "         / |     ||        ||_______| \\                          \n",
      "        *  ||W---||        ||      ||  *                         \n",
      "           ^^    ^^        ^^      ^^                        "
     ]
    }
   ],
   "source": [
    "myasciiArtList=[]\n",
    "for char in asciiArt:\n",
    "    myasciiArtList.append(char)\n",
    "for i in range(len(myasciiArtList)):\n",
    "    if (i%65==0):\n",
    "        print(myasciiArtList[i])\n",
    "    else:\n",
    "        print(myasciiArtList[i],end=\"\")"
   ]
  },
  {
   "cell_type": "markdown",
   "metadata": {},
   "source": [
    "### Exercise 3 - christmas tree\n",
    "Write a program using for loops to print a christmas tree of `x` lines high specified by the user. (use for loops)\n",
    "\n",
    "So for instance, a chrismas tree of 4 high should look like this:\n",
    "```\n",
    "    *\n",
    "   ***\n",
    "  *****\n",
    " *******\n",
    "    |\n",
    "```"
   ]
  },
  {
   "cell_type": "code",
   "execution_count": 48,
   "metadata": {},
   "outputs": [
    {
     "name": "stdout",
     "output_type": "stream",
     "text": [
      "The height of Christmas tree you want:5\n",
      "    *\n",
      "   ***\n",
      "  *****\n",
      " *******\n",
      "*********\n",
      "    |\n"
     ]
    }
   ],
   "source": [
    "n=int(input(\"The height of Christmas tree you want:\"))\n",
    "for i in range(n):\n",
    "    print((\" \"*(n-i-1))+(\"*\"*(2*(i+1)-1)))\n",
    "print(\" \"*(n-1)+\"|\")"
   ]
  }
 ],
 "metadata": {
  "kernelspec": {
   "display_name": "Python 3",
   "language": "python",
   "name": "python3"
  },
  "language_info": {
   "codemirror_mode": {
    "name": "ipython",
    "version": 3
   },
   "file_extension": ".py",
   "mimetype": "text/x-python",
   "name": "python",
   "nbconvert_exporter": "python",
   "pygments_lexer": "ipython3",
   "version": "3.8.8"
  }
 },
 "nbformat": 4,
 "nbformat_minor": 2
}
