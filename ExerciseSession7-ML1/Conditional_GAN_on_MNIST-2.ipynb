{
  "cells": [
    {
      "cell_type": "markdown",
      "metadata": {
        "id": "ePyPgA-nd0yG"
      },
      "source": [
        "# Import statements"
      ]
    },
    {
      "cell_type": "code",
      "execution_count": 1,
      "metadata": {
        "id": "vGlgrmDNd0T4"
      },
      "outputs": [],
      "source": [
        "import torch\n",
        "from torchvision import transforms, datasets\n",
        "import torch.nn as nn\n",
        "from torch import optim as optim"
      ]
    },
    {
      "cell_type": "markdown",
      "metadata": {
        "id": "O0pJjIAed8JP"
      },
      "source": [
        "# Select Device"
      ]
    },
    {
      "cell_type": "code",
      "execution_count": 2,
      "metadata": {
        "colab": {
          "base_uri": "https://localhost:8080/"
        },
        "id": "1I44mJWydmxT",
        "outputId": "417ae188-cb27-44c3-be3b-8b37e504fbfe"
      },
      "outputs": [
        {
          "name": "stdout",
          "output_type": "stream",
          "text": [
            "cpu\n"
          ]
        }
      ],
      "source": [
        "device = torch.device(\"cuda\" if torch.cuda.is_available() else \"cpu\")\n",
        "print(device)"
      ]
    },
    {
      "cell_type": "markdown",
      "metadata": {
        "id": "WnO0O9K2P3QZ"
      },
      "source": [
        "# Load dataset and declare training parameters"
      ]
    },
    {
      "cell_type": "code",
      "execution_count": 3,
      "metadata": {
        "id": "yGvGwmtNXL6S"
      },
      "outputs": [],
      "source": [
        "training_parameters = {\n",
        "    \"n_epochs\": 100,\n",
        "    \"batch_size\": 100,\n",
        "}\n",
        "batch_size = training_parameters[\"batch_size\"]\n",
        "data_loader = torch.utils.data.DataLoader(datasets.MNIST('./', train=True, download=True,\n",
        "                             transform=transforms.Compose([\n",
        "                               transforms.ToTensor(),\n",
        "                               transforms.Normalize(\n",
        "                                 (0.5,), (0.5,))\n",
        "                             ])),\n",
        "batch_size=training_parameters[\"batch_size\"], shuffle=True)"
      ]
    },
    {
      "cell_type": "code",
      "execution_count": 4,
      "metadata": {
        "colab": {
          "base_uri": "https://localhost:8080/"
        },
        "id": "uo1RcVFSaT6R",
        "outputId": "ee02e41f-a2c3-43dd-edf3-b0b5f9e58129"
      },
      "outputs": [
        {
          "name": "stdout",
          "output_type": "stream",
          "text": [
            "Number of batches:  600\n"
          ]
        }
      ],
      "source": [
        "num_batches = len(data_loader)\n",
        "print(\"Number of batches: \",num_batches)"
      ]
    },
    {
      "cell_type": "markdown",
      "metadata": {
        "id": "upuWTpqEQMJG"
      },
      "source": [
        "# Display an iamge"
      ]
    },
    {
      "cell_type": "code",
      "execution_count": 5,
      "metadata": {
        "colab": {
          "base_uri": "https://localhost:8080/",
          "height": 265
        },
        "id": "qZR8ZCOm6TRY",
        "outputId": "80bb7dde-4df2-48c0-93a8-5e5de55ee67d"
      },
      "outputs": [
        {
          "data": {
            "image/png": "[encoded data removed]",
            "text/plain": [
              "<Figure size 432x288 with 1 Axes>"
            ]
          },
          "metadata": {
            "needs_background": "light"
          },
          "output_type": "display_data"
        }
      ],
      "source": [
        "%matplotlib inline \n",
        "from matplotlib import pyplot as plt\n",
        "\n",
        "for x,_ in data_loader:\n",
        "    plt.imshow(x.numpy()[0][0], cmap='gray')\n",
        "    break"
      ]
    },
    {
      "cell_type": "markdown",
      "metadata": {
        "id": "q_QwUBQlQSAr"
      },
      "source": [
        "# Define Generator and Discriminator"
      ]
    },
    {
      "cell_type": "code",
      "execution_count": 6,
      "metadata": {
        "colab": {
          "base_uri": "https://localhost:8080/"
        },
        "id": "gOvX1SSHa41A",
        "outputId": "bc1419d8-4d18-4f49-98b1-85ce61bba9c5"
      },
      "outputs": [
        {
          "data": {
            "text/plain": [
              "GeneratorModel(\n",
              "  (label_embedding): Embedding(10, 10)\n",
              "  (hidden_layer1): Sequential(\n",
              "    (0): Linear(in_features=110, out_features=256, bias=True)\n",
              "    (1): LeakyReLU(negative_slope=0.2)\n",
              "  )\n",
              "  (hidden_layer2): Sequential(\n",
              "    (0): Linear(in_features=256, out_features=512, bias=True)\n",
              "    (1): LeakyReLU(negative_slope=0.2)\n",
              "  )\n",
              "  (hidden_layer3): Sequential(\n",
              "    (0): Linear(in_features=512, out_features=1024, bias=True)\n",
              "    (1): LeakyReLU(negative_slope=0.2)\n",
              "  )\n",
              "  (hidden_layer4): Sequential(\n",
              "    (0): Linear(in_features=1024, out_features=784, bias=True)\n",
              "    (1): Tanh()\n",
              "  )\n",
              ")"
            ]
          },
          "execution_count": 6,
          "metadata": {},
          "output_type": "execute_result"
        }
      ],
      "source": [
        "class GeneratorModel(nn.Module):\n",
        "    def __init__(self):\n",
        "        super(GeneratorModel, self).__init__()\n",
        "        input_dim = 100 + 10\n",
        "        output_dim = 784\n",
        "        self.label_embedding = nn.Embedding(10, 10)\n",
        "        \n",
        "        self.hidden_layer1 = nn.Sequential(\n",
        "            nn.Linear(input_dim, 256),\n",
        "            nn.LeakyReLU(0.2)\n",
        "        )\n",
        "\n",
        "        self.hidden_layer2 = nn.Sequential(\n",
        "            nn.Linear(256, 512),\n",
        "            nn.LeakyReLU(0.2)\n",
        "        )\n",
        "\n",
        "        self.hidden_layer3 = nn.Sequential(\n",
        "            nn.Linear(512, 1024),\n",
        "            nn.LeakyReLU(0.2)\n",
        "        )\n",
        "\n",
        "        self.hidden_layer4 = nn.Sequential(\n",
        "            nn.Linear(1024, output_dim),\n",
        "            nn.Tanh()\n",
        "        )\n",
        "    \n",
        "    def forward(self, x, labels):\n",
        "        c = self.label_embedding(labels)\n",
        "        x = torch.cat([x,c], 1)\n",
        "        output = self.hidden_layer1(x)\n",
        "        output = self.hidden_layer2(output)\n",
        "        output = self.hidden_layer3(output)\n",
        "        output = self.hidden_layer4(output)\n",
        "        return output.to(device)\n",
        "\n",
        "class DiscriminatorModel(nn.Module):\n",
        "    def __init__(self):\n",
        "        super(DiscriminatorModel, self).__init__()\n",
        "        input_dim = 784 + 10\n",
        "        output_dim = 1\n",
        "        self.label_embedding = nn.Embedding(10, 10)\n",
        "\n",
        "        self.hidden_layer1 = nn.Sequential(\n",
        "            nn.Linear(input_dim, 1024),\n",
        "            nn.LeakyReLU(0.2),\n",
        "            nn.Dropout(0.3)\n",
        "        )\n",
        "\n",
        "        self.hidden_layer2 = nn.Sequential(\n",
        "            nn.Linear(1024, 512),\n",
        "            nn.LeakyReLU(0.2),\n",
        "            nn.Dropout(0.3)\n",
        "        )\n",
        "\n",
        "        self.hidden_layer3 = nn.Sequential(\n",
        "            nn.Linear(512, 256),\n",
        "            nn.LeakyReLU(0.2),\n",
        "            nn.Dropout(0.3)\n",
        "        )\n",
        "\n",
        "        self.hidden_layer4 = nn.Sequential(\n",
        "            nn.Linear(256, output_dim),\n",
        "            nn.Sigmoid()\n",
        "        )\n",
        "\n",
        "    def forward(self, x, labels):\n",
        "        c = self.label_embedding(labels)\n",
        "        x = torch.cat([x, c], 1)\n",
        "        output = self.hidden_layer1(x)\n",
        "        output = self.hidden_layer2(output)\n",
        "        output = self.hidden_layer3(output)\n",
        "        output = self.hidden_layer4(output)\n",
        "\n",
        "        return output.to(device)\n",
        "\n",
        "discriminator = DiscriminatorModel()\n",
        "generator = GeneratorModel()\n",
        "discriminator.to(device)\n",
        "generator.to(device)"
      ]
    },
    {
      "cell_type": "markdown",
      "metadata": {
        "id": "IMuVQHnZQhU9"
      },
      "source": [
        "# Initilize Optimizers, loss function\n"
      ]
    },
    {
      "cell_type": "code",
      "execution_count": 7,
      "metadata": {
        "id": "j1GQkiSFxzPe"
      },
      "outputs": [],
      "source": [
        "discriminator_optimizer = optim.Adam(discriminator.parameters(), lr=0.0002)\n",
        "generator_optimizer = optim.Adam(generator.parameters(), lr=0.0002)\n",
        "\n",
        "loss = nn.BCELoss()\n"
      ]
    },
    {
      "cell_type": "code",
      "execution_count": 8,
      "metadata": {
        "colab": {
          "base_uri": "https://localhost:8080/"
        },
        "id": "R9M9PvYPFxKO",
        "outputId": "3832adfd-695e-4f3b-9b72-c0eb07fde998"
      },
      "outputs": [
        {
          "data": {
            "text/plain": [
              "tensor([1, 1, 1, 1, 1, 1, 1, 1, 1, 1, 1, 1, 1, 1, 1, 1, 1, 1, 1, 1, 1, 1, 1, 1,\n",
              "        1, 1, 1, 1, 1, 1, 1, 1, 1, 1, 1, 1, 1, 1, 1, 1, 1, 1, 1, 1, 1, 1, 1, 1,\n",
              "        1, 1, 1, 1, 1, 1, 1, 1, 1, 1, 1, 1, 1, 1, 1, 1, 1, 1, 1, 1, 1, 1, 1, 1,\n",
              "        1, 1, 1, 1, 1, 1, 1, 1, 1, 1, 1, 1, 1, 1, 1, 1, 1, 1, 1, 1, 1, 1, 1, 1,\n",
              "        1, 1, 1, 1])"
            ]
          },
          "execution_count": 8,
          "metadata": {},
          "output_type": "execute_result"
        }
      ],
      "source": [
        "torch.ones(batch_size, dtype = torch.long)"
      ]
    },
    {
      "cell_type": "markdown",
      "metadata": {
        "id": "OLvXAR7Px1ja"
      },
      "source": [
        "# Training Loop"
      ]
    },
    {
      "cell_type": "code",
      "execution_count": 9,
      "metadata": {
        "colab": {
          "base_uri": "https://localhost:8080/",
          "height": 1000
        },
        "id": "8sp6taoHSioH",
        "outputId": "d14d86ec-a1e0-4616-e47f-2b4b4373dff7"
      },
      "outputs": [
        {
          "name": "stdout",
          "output_type": "stream",
          "text": [
            "[0/100]: loss_d: 0.490, loss_g: 2.622\n",
            "[1/100]: loss_d: 0.571, loss_g: 1.800\n",
            "[2/100]: loss_d: 0.373, loss_g: 2.816\n",
            "[3/100]: loss_d: 0.323, loss_g: 2.428\n",
            "[4/100]: loss_d: 0.241, loss_g: 2.950\n",
            "[5/100]: loss_d: 0.241, loss_g: 2.928\n",
            "[6/100]: loss_d: 0.300, loss_g: 2.623\n",
            "[7/100]: loss_d: 0.262, loss_g: 2.789\n",
            "[8/100]: loss_d: 0.275, loss_g: 2.752\n",
            "Training Steps Completed:  499\n",
            "0\n"
          ]
        },
        {
          "data": {
            "image/png": "[encoded data removed]",
            "text/plain": [
              "<Figure size 432x288 with 1 Axes>"
            ]
          },
          "metadata": {
            "needs_background": "light"
          },
          "output_type": "display_data"
        },
        {
          "name": "stdout",
          "output_type": "stream",
          "text": [
            "[9/100]: loss_d: 0.304, loss_g: 2.483\n",
            "[10/100]: loss_d: 0.351, loss_g: 2.243\n",
            "[11/100]: loss_d: 0.373, loss_g: 2.053\n",
            "[12/100]: loss_d: 0.359, loss_g: 2.119\n",
            "[13/100]: loss_d: 0.381, loss_g: 2.025\n",
            "[14/100]: loss_d: 0.389, loss_g: 1.983\n",
            "[15/100]: loss_d: 0.390, loss_g: 1.995\n",
            "[16/100]: loss_d: 0.414, loss_g: 1.873\n",
            "[17/100]: loss_d: 0.438, loss_g: 1.708\n",
            "[18/100]: loss_d: 0.467, loss_g: 1.569\n",
            "Training Steps Completed:  499\n",
            "8\n"
          ]
        },
        {
          "data": {
            "image/png": "[encoded data removed]",
            "text/plain": [
              "<Figure size 432x288 with 1 Axes>"
            ]
          },
          "metadata": {
            "needs_background": "light"
          },
          "output_type": "display_data"
        },
        {
          "name": "stdout",
          "output_type": "stream",
          "text": [
            "[19/100]: loss_d: 0.476, loss_g: 1.531\n",
            "[20/100]: loss_d: 0.459, loss_g: 1.608\n",
            "[21/100]: loss_d: 0.456, loss_g: 1.632\n",
            "[22/100]: loss_d: 0.480, loss_g: 1.497\n",
            "[23/100]: loss_d: 0.484, loss_g: 1.478\n",
            "[24/100]: loss_d: 0.489, loss_g: 1.487\n",
            "[25/100]: loss_d: 0.503, loss_g: 1.410\n",
            "[26/100]: loss_d: 0.495, loss_g: 1.446\n",
            "[27/100]: loss_d: 0.487, loss_g: 1.496\n",
            "[28/100]: loss_d: 0.498, loss_g: 1.434\n",
            "Training Steps Completed:  499\n",
            "6\n"
          ]
        },
        {
          "data": {
            "image/png": "[encoded data removed]",
            "text/plain": [
              "<Figure size 432x288 with 1 Axes>"
            ]
          },
          "metadata": {
            "needs_background": "light"
          },
          "output_type": "display_data"
        },
        {
          "name": "stdout",
          "output_type": "stream",
          "text": [
            "[29/100]: loss_d: 0.513, loss_g: 1.363\n",
            "[30/100]: loss_d: 0.520, loss_g: 1.337\n",
            "[31/100]: loss_d: 0.527, loss_g: 1.325\n",
            "[32/100]: loss_d: 0.536, loss_g: 1.277\n",
            "[33/100]: loss_d: 0.540, loss_g: 1.249\n",
            "[34/100]: loss_d: 0.538, loss_g: 1.263\n",
            "[35/100]: loss_d: 0.545, loss_g: 1.228\n",
            "[36/100]: loss_d: 0.542, loss_g: 1.267\n",
            "[37/100]: loss_d: 0.541, loss_g: 1.243\n",
            "[38/100]: loss_d: 0.556, loss_g: 1.194\n",
            "Training Steps Completed:  499\n",
            "3\n"
          ]
        },
        {
          "data": {
            "image/png": "[encoded data removed]",
            "text/plain": [
              "<Figure size 432x288 with 1 Axes>"
            ]
          },
          "metadata": {
            "needs_background": "light"
          },
          "output_type": "display_data"
        },
        {
          "name": "stdout",
          "output_type": "stream",
          "text": [
            "[39/100]: loss_d: 0.565, loss_g: 1.150\n",
            "[40/100]: loss_d: 0.575, loss_g: 1.126\n",
            "[41/100]: loss_d: 0.578, loss_g: 1.090\n",
            "[42/100]: loss_d: 0.578, loss_g: 1.105\n",
            "[43/100]: loss_d: 0.580, loss_g: 1.111\n",
            "[44/100]: loss_d: 0.581, loss_g: 1.090\n",
            "[45/100]: loss_d: 0.590, loss_g: 1.052\n",
            "[46/100]: loss_d: 0.590, loss_g: 1.070\n",
            "[47/100]: loss_d: 0.590, loss_g: 1.059\n",
            "[48/100]: loss_d: 0.594, loss_g: 1.038\n",
            "Training Steps Completed:  499\n",
            "5\n"
          ]
        },
        {
          "data": {
            "image/png": "[encoded data removed]",
            "text/plain": [
              "<Figure size 432x288 with 1 Axes>"
            ]
          },
          "metadata": {
            "needs_background": "light"
          },
          "output_type": "display_data"
        },
        {
          "name": "stdout",
          "output_type": "stream",
          "text": [
            "[49/100]: loss_d: 0.597, loss_g: 1.035\n",
            "[50/100]: loss_d: 0.603, loss_g: 1.009\n",
            "[51/100]: loss_d: 0.606, loss_g: 1.005\n",
            "[52/100]: loss_d: 0.599, loss_g: 1.032\n",
            "[53/100]: loss_d: 0.606, loss_g: 1.006\n",
            "[54/100]: loss_d: 0.606, loss_g: 0.994\n",
            "[55/100]: loss_d: 0.601, loss_g: 1.027\n",
            "[56/100]: loss_d: 0.605, loss_g: 1.004\n",
            "[57/100]: loss_d: 0.609, loss_g: 0.990\n",
            "[58/100]: loss_d: 0.615, loss_g: 0.971\n",
            "Training Steps Completed:  499\n",
            "1\n"
          ]
        },
        {
          "data": {
            "image/png": "[encoded data removed]",
            "text/plain": [
              "<Figure size 432x288 with 1 Axes>"
            ]
          },
          "metadata": {
            "needs_background": "light"
          },
          "output_type": "display_data"
        },
        {
          "name": "stdout",
          "output_type": "stream",
          "text": [
            "[59/100]: loss_d: 0.611, loss_g: 0.997\n",
            "[60/100]: loss_d: 0.614, loss_g: 0.982\n",
            "[61/100]: loss_d: 0.615, loss_g: 1.000\n",
            "[62/100]: loss_d: 0.617, loss_g: 0.954\n",
            "[63/100]: loss_d: 0.625, loss_g: 0.942\n",
            "[64/100]: loss_d: 0.624, loss_g: 0.938\n",
            "[65/100]: loss_d: 0.625, loss_g: 0.942\n",
            "[66/100]: loss_d: 0.623, loss_g: 0.948\n",
            "[67/100]: loss_d: 0.621, loss_g: 0.938\n",
            "[68/100]: loss_d: 0.621, loss_g: 0.966\n",
            "Training Steps Completed:  499\n",
            "0\n"
          ]
        },
        {
          "data": {
            "image/png": "[encoded data removed]",
            "text/plain": [
              "<Figure size 432x288 with 1 Axes>"
            ]
          },
          "metadata": {
            "needs_background": "light"
          },
          "output_type": "display_data"
        },
        {
          "name": "stdout",
          "output_type": "stream",
          "text": [
            "[69/100]: loss_d: 0.621, loss_g: 0.950\n",
            "[70/100]: loss_d: 0.626, loss_g: 0.926\n",
            "[71/100]: loss_d: 0.624, loss_g: 0.943\n",
            "[72/100]: loss_d: 0.625, loss_g: 0.939\n",
            "[73/100]: loss_d: 0.626, loss_g: 0.931\n",
            "[74/100]: loss_d: 0.630, loss_g: 0.911\n",
            "[75/100]: loss_d: 0.633, loss_g: 0.908\n",
            "[76/100]: loss_d: 0.638, loss_g: 0.917\n",
            "[77/100]: loss_d: 0.632, loss_g: 0.920\n",
            "[78/100]: loss_d: 0.628, loss_g: 0.941\n",
            "Training Steps Completed:  499\n",
            "8\n"
          ]
        },
        {
          "data": {
            "image/png": "[encoded data removed]",
            "text/plain": [
              "<Figure size 432x288 with 1 Axes>"
            ]
          },
          "metadata": {
            "needs_background": "light"
          },
          "output_type": "display_data"
        },
        {
          "name": "stdout",
          "output_type": "stream",
          "text": [
            "[79/100]: loss_d: 0.628, loss_g: 0.931\n",
            "[80/100]: loss_d: 0.625, loss_g: 0.934\n",
            "[81/100]: loss_d: 0.635, loss_g: 0.902\n",
            "[82/100]: loss_d: 0.636, loss_g: 0.899\n",
            "[83/100]: loss_d: 0.636, loss_g: 0.893\n",
            "[84/100]: loss_d: 0.639, loss_g: 0.879\n",
            "[85/100]: loss_d: 0.642, loss_g: 0.883\n",
            "[86/100]: loss_d: 0.639, loss_g: 0.898\n",
            "[87/100]: loss_d: 0.635, loss_g: 0.904\n",
            "[88/100]: loss_d: 0.639, loss_g: 0.897\n",
            "Training Steps Completed:  499\n",
            "5\n"
          ]
        },
        {
          "data": {
            "image/png": "[encoded data removed]",
            "text/plain": [
              "<Figure size 432x288 with 1 Axes>"
            ]
          },
          "metadata": {
            "needs_background": "light"
          },
          "output_type": "display_data"
        },
        {
          "name": "stdout",
          "output_type": "stream",
          "text": [
            "[89/100]: loss_d: 0.633, loss_g: 0.908\n",
            "[90/100]: loss_d: 0.637, loss_g: 0.898\n",
            "[91/100]: loss_d: 0.644, loss_g: 0.870\n",
            "[92/100]: loss_d: 0.647, loss_g: 0.874\n",
            "[93/100]: loss_d: 0.637, loss_g: 0.911\n",
            "[94/100]: loss_d: 0.638, loss_g: 0.888\n",
            "[95/100]: loss_d: 0.639, loss_g: 0.889\n",
            "[96/100]: loss_d: 0.639, loss_g: 0.887\n",
            "[97/100]: loss_d: 0.644, loss_g: 0.879\n",
            "[98/100]: loss_d: 0.641, loss_g: 0.884\n",
            "Training Steps Completed:  499\n",
            "3\n"
          ]
        },
        {
          "data": {
            "image/png": "[encoded data removed]",
            "text/plain": [
              "<Figure size 432x288 with 1 Axes>"
            ]
          },
          "metadata": {
            "needs_background": "light"
          },
          "output_type": "display_data"
        },
        {
          "name": "stdout",
          "output_type": "stream",
          "text": [
            "[99/100]: loss_d: 0.645, loss_g: 0.884\n"
          ]
        }
      ],
      "source": [
        "n_epochs = training_parameters[\"n_epochs\"]\n",
        "batch_size = training_parameters[\"batch_size\"]\n",
        "\n",
        "for epoch_idx in range(n_epochs):\n",
        "    G_loss = []\n",
        "    D_loss = []\n",
        "    for batch_idx, data_input in enumerate(data_loader):\n",
        "        \n",
        "        \n",
        "        noise = torch.randn(batch_size,100).to(device)\n",
        "        fake_labels = torch.randint(0, 10, (batch_size,)).to(device)\n",
        "        generated_data = generator(noise, fake_labels) # batch_size X 784\n",
        "\n",
        "        \n",
        "        # Discriminator\n",
        "        true_data = data_input[0].view(batch_size, 784).to(device) # batch_size X 784\n",
        "        digit_labels = data_input[1].to(device) # batch_size\n",
        "        true_labels = torch.ones(batch_size).to(device)\n",
        "        \n",
        "        discriminator_optimizer.zero_grad()\n",
        "\n",
        "        discriminator_output_for_true_data = discriminator(true_data, digit_labels).view(batch_size)\n",
        "        true_discriminator_loss = loss(discriminator_output_for_true_data, true_labels)\n",
        "\n",
        "        discriminator_output_for_generated_data = discriminator(generated_data.detach(), fake_labels).view(batch_size)\n",
        "        generator_discriminator_loss = loss(\n",
        "            discriminator_output_for_generated_data, torch.zeros(batch_size).to(device)\n",
        "        )\n",
        "        discriminator_loss = (\n",
        "            true_discriminator_loss + generator_discriminator_loss\n",
        "        ) / 2\n",
        "        \n",
        "        discriminator_loss.backward()\n",
        "        discriminator_optimizer.step()\n",
        "\n",
        "        D_loss.append(discriminator_loss.data.item())\n",
        "        \n",
        "        \n",
        "        # Generator\n",
        "\n",
        "        generator_optimizer.zero_grad()\n",
        "        # It's a choice to generate the data again\n",
        "        generated_data = generator(noise, fake_labels) # batch_size X 784\n",
        "        discriminator_output_on_generated_data = discriminator(generated_data, fake_labels).view(batch_size)\n",
        "        generator_loss = loss(discriminator_output_on_generated_data, true_labels)\n",
        "        generator_loss.backward()\n",
        "        generator_optimizer.step()\n",
        "        \n",
        "        G_loss.append(generator_loss.data.item())\n",
        "        if ((batch_idx + 1)% 500 == 0 and (epoch_idx + 1)%10 == 0):\n",
        "            print(\"Training Steps Completed: \", batch_idx)\n",
        "            \n",
        "            with torch.no_grad():\n",
        "                noise = torch.randn(batch_size,100).to(device)\n",
        "                fake_labels = torch.randint(0, 10, (batch_size,)).to(device)\n",
        "                generated_data = generator(noise, fake_labels).cpu().view(batch_size, 28, 28)\n",
        "                for x in generated_data:\n",
        "                    print(fake_labels[0].item())\n",
        "                    plt.imshow(x.detach().numpy(), interpolation='nearest',cmap='gray')\n",
        "                    plt.show()\n",
        "\n",
        "                    break\n",
        "\n",
        "\n",
        "    print('[%d/%d]: loss_d: %.3f, loss_g: %.3f' % (\n",
        "            (epoch_idx), n_epochs, torch.mean(torch.FloatTensor(D_loss)), torch.mean(torch.FloatTensor(G_loss))))\n",
        "    "
      ]
    },
    {
      "cell_type": "code",
      "execution_count": 10,
      "metadata": {
        "colab": {
          "base_uri": "https://localhost:8080/",
          "height": 282
        },
        "id": "52sEjHoXSiuO",
        "outputId": "d5768f34-6efe-4f6a-e886-4c5652355143"
      },
      "outputs": [
        {
          "name": "stdout",
          "output_type": "stream",
          "text": [
            "5\n"
          ]
        },
        {
          "data": {
            "image/png": "[encoded data removed]",
            "text/plain": [
              "<Figure size 432x288 with 1 Axes>"
            ]
          },
          "metadata": {
            "needs_background": "light"
          },
          "output_type": "display_data"
        }
      ],
      "source": [
        "noise = torch.randn(1,100).to(device)\n",
        "labels = torch.randint(5, 6, (1,)).to(device)\n",
        "generated_data = generator(noise, labels).cpu().view(1, 28, 28)\n",
        "for x in generated_data:\n",
        "  print(labels[0].item())\n",
        "  plt.imshow(x.detach().numpy(), interpolation='nearest',cmap='gray_r')\n",
        "  plt.show()"
      ]
    }
  ],
  "metadata": {
    "accelerator": "GPU",
    "colab": {
      "collapsed_sections": [],
      "name": "Conditional_GAN_on_MNIST.ipynb",
      "provenance": []
    },
    "kernelspec": {
      "display_name": "Python 3",
      "name": "python3"
    },
    "language_info": {
      "codemirror_mode": {
        "name": "ipython",
        "version": 3
      },
      "file_extension": ".py",
      "mimetype": "text/x-python",
      "name": "python",
      "nbconvert_exporter": "python",
      "pygments_lexer": "ipython3",
      "version": "3.9.5"
    }
  },
  "nbformat": 4,
  "nbformat_minor": 0
}
